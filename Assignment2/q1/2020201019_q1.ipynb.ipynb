{
  "nbformat": 4,
  "nbformat_minor": 0,
  "metadata": {
    "colab": {
      "name": "OP_Q1.ipynb",
      "provenance": []
    },
    "kernelspec": {
      "name": "python3",
      "display_name": "Python 3"
    },
    "language_info": {
      "name": "python"
    }
  },
  "cells": [
    {
      "cell_type": "code",
      "metadata": {
        "id": "tdRwk0bHyImL"
      },
      "source": [
        "import numpy as np\n",
        "import pandas as pd\n",
        "import matplotlib.pyplot as plt\n",
        "import seaborn as sns"
      ],
      "execution_count": 1,
      "outputs": []
    },
    {
      "cell_type": "code",
      "metadata": {
        "id": "HjDudl7py-ww"
      },
      "source": [
        "url = \"/content/drive/MyDrive/IdentityResolution.csv\"\n",
        "df = pd.read_csv(url)"
      ],
      "execution_count": 2,
      "outputs": []
    },
    {
      "cell_type": "code",
      "metadata": {
        "id": "VYs63sRJyxPo"
      },
      "source": [
        "#Visualize data\n",
        "\n",
        "df.columns = ['Name','Twitter','Facebook','Instagram']"
      ],
      "execution_count": 3,
      "outputs": []
    },
    {
      "cell_type": "code",
      "metadata": {
        "colab": {
          "base_uri": "https://localhost:8080/",
          "height": 204
        },
        "id": "rJyN_--l0MOb",
        "outputId": "32e71a59-8e43-4fe1-b5c3-e7d8cab09a06"
      },
      "source": [
        "df.head()"
      ],
      "execution_count": 4,
      "outputs": [
        {
          "output_type": "execute_result",
          "data": {
            "text/html": [
              "<div>\n",
              "<style scoped>\n",
              "    .dataframe tbody tr th:only-of-type {\n",
              "        vertical-align: middle;\n",
              "    }\n",
              "\n",
              "    .dataframe tbody tr th {\n",
              "        vertical-align: top;\n",
              "    }\n",
              "\n",
              "    .dataframe thead th {\n",
              "        text-align: right;\n",
              "    }\n",
              "</style>\n",
              "<table border=\"1\" class=\"dataframe\">\n",
              "  <thead>\n",
              "    <tr style=\"text-align: right;\">\n",
              "      <th></th>\n",
              "      <th>Name</th>\n",
              "      <th>Twitter</th>\n",
              "      <th>Facebook</th>\n",
              "      <th>Instagram</th>\n",
              "    </tr>\n",
              "  </thead>\n",
              "  <tbody>\n",
              "    <tr>\n",
              "      <th>0</th>\n",
              "      <td>Alex Sablan</td>\n",
              "      <td>https://www.twitter.com/AlexSablancom</td>\n",
              "      <td>https://facebook.com/alexsablancom</td>\n",
              "      <td>http://instagram.com/a_sablan</td>\n",
              "    </tr>\n",
              "    <tr>\n",
              "      <th>1</th>\n",
              "      <td>Xavier Gass</td>\n",
              "      <td>https://www.twitter.com/XaviGasso</td>\n",
              "      <td>http://www.facebook.com/xgasso</td>\n",
              "      <td>http://instagram.com/xavigasso</td>\n",
              "    </tr>\n",
              "    <tr>\n",
              "      <th>2</th>\n",
              "      <td>Nicole Lapin</td>\n",
              "      <td>https://www.twitter.com/NicoleLapin</td>\n",
              "      <td>http://www.facebook.com/nicolelapin</td>\n",
              "      <td>http://instagram.com/nicolelapin</td>\n",
              "    </tr>\n",
              "    <tr>\n",
              "      <th>3</th>\n",
              "      <td>Mattan Griffel</td>\n",
              "      <td>https://www.twitter.com/mattangriffel</td>\n",
              "      <td>http://www.facebook.com/mattangriffel</td>\n",
              "      <td>http://instagram.com/mattangriffel</td>\n",
              "    </tr>\n",
              "    <tr>\n",
              "      <th>4</th>\n",
              "      <td>Shashank Bharadwaj</td>\n",
              "      <td>https://www.twitter.com/snk</td>\n",
              "      <td>https://www.facebook.com/shashu10</td>\n",
              "      <td>http://instagram.com/shashu10</td>\n",
              "    </tr>\n",
              "  </tbody>\n",
              "</table>\n",
              "</div>"
            ],
            "text/plain": [
              "                 Name  ...                           Instagram\n",
              "0         Alex Sablan  ...       http://instagram.com/a_sablan\n",
              "1         Xavier Gass  ...      http://instagram.com/xavigasso\n",
              "2        Nicole Lapin  ...    http://instagram.com/nicolelapin\n",
              "3      Mattan Griffel  ...  http://instagram.com/mattangriffel\n",
              "4  Shashank Bharadwaj  ...       http://instagram.com/shashu10\n",
              "\n",
              "[5 rows x 4 columns]"
            ]
          },
          "metadata": {},
          "execution_count": 4
        }
      ]
    },
    {
      "cell_type": "markdown",
      "metadata": {
        "id": "jKQZ32_ZFswF"
      },
      "source": [
        "**Extracting Username from profile url of all the social networks sites**"
      ]
    },
    {
      "cell_type": "code",
      "metadata": {
        "id": "Nla06rhu0svY"
      },
      "source": [
        "def getUsername(x):\n",
        "  x = x.split('/')\n",
        "  x = x[-1]\n",
        "  return x.lower();"
      ],
      "execution_count": 5,
      "outputs": []
    },
    {
      "cell_type": "code",
      "metadata": {
        "id": "QwqCFmjT03lu"
      },
      "source": [
        "for i in range(1,4):\n",
        "  # print(df.iloc[:,i])\n",
        "  df.iloc[:,i] = df.iloc[:,i].apply(lambda x: getUsername(x))\n"
      ],
      "execution_count": 6,
      "outputs": []
    },
    {
      "cell_type": "code",
      "metadata": {
        "colab": {
          "base_uri": "https://localhost:8080/",
          "height": 419
        },
        "id": "f9yIuoy61U3V",
        "outputId": "4dfb54d6-269d-4279-e184-9a8c0ee69166"
      },
      "source": [
        "df"
      ],
      "execution_count": 7,
      "outputs": [
        {
          "output_type": "execute_result",
          "data": {
            "text/html": [
              "<div>\n",
              "<style scoped>\n",
              "    .dataframe tbody tr th:only-of-type {\n",
              "        vertical-align: middle;\n",
              "    }\n",
              "\n",
              "    .dataframe tbody tr th {\n",
              "        vertical-align: top;\n",
              "    }\n",
              "\n",
              "    .dataframe thead th {\n",
              "        text-align: right;\n",
              "    }\n",
              "</style>\n",
              "<table border=\"1\" class=\"dataframe\">\n",
              "  <thead>\n",
              "    <tr style=\"text-align: right;\">\n",
              "      <th></th>\n",
              "      <th>Name</th>\n",
              "      <th>Twitter</th>\n",
              "      <th>Facebook</th>\n",
              "      <th>Instagram</th>\n",
              "    </tr>\n",
              "  </thead>\n",
              "  <tbody>\n",
              "    <tr>\n",
              "      <th>0</th>\n",
              "      <td>Alex Sablan</td>\n",
              "      <td>alexsablancom</td>\n",
              "      <td>alexsablancom</td>\n",
              "      <td>a_sablan</td>\n",
              "    </tr>\n",
              "    <tr>\n",
              "      <th>1</th>\n",
              "      <td>Xavier Gass</td>\n",
              "      <td>xavigasso</td>\n",
              "      <td>xgasso</td>\n",
              "      <td>xavigasso</td>\n",
              "    </tr>\n",
              "    <tr>\n",
              "      <th>2</th>\n",
              "      <td>Nicole Lapin</td>\n",
              "      <td>nicolelapin</td>\n",
              "      <td>nicolelapin</td>\n",
              "      <td>nicolelapin</td>\n",
              "    </tr>\n",
              "    <tr>\n",
              "      <th>3</th>\n",
              "      <td>Mattan Griffel</td>\n",
              "      <td>mattangriffel</td>\n",
              "      <td>mattangriffel</td>\n",
              "      <td>mattangriffel</td>\n",
              "    </tr>\n",
              "    <tr>\n",
              "      <th>4</th>\n",
              "      <td>Shashank Bharadwaj</td>\n",
              "      <td>snk</td>\n",
              "      <td>shashu10</td>\n",
              "      <td>shashu10</td>\n",
              "    </tr>\n",
              "    <tr>\n",
              "      <th>...</th>\n",
              "      <td>...</td>\n",
              "      <td>...</td>\n",
              "      <td>...</td>\n",
              "      <td>...</td>\n",
              "    </tr>\n",
              "    <tr>\n",
              "      <th>318</th>\n",
              "      <td>Vasu Chawla</td>\n",
              "      <td>vasuchawla</td>\n",
              "      <td>vasuchawla26</td>\n",
              "      <td>vasuchawla</td>\n",
              "    </tr>\n",
              "    <tr>\n",
              "      <th>319</th>\n",
              "      <td>Dayn Wilberding</td>\n",
              "      <td>dayn</td>\n",
              "      <td>daynw</td>\n",
              "      <td>dayn</td>\n",
              "    </tr>\n",
              "    <tr>\n",
              "      <th>320</th>\n",
              "      <td>Guillermo Navarro</td>\n",
              "      <td>bildenlex</td>\n",
              "      <td>drguillermonavarro</td>\n",
              "      <td>bildenlex</td>\n",
              "    </tr>\n",
              "    <tr>\n",
              "      <th>321</th>\n",
              "      <td>Antonio J. Cuevas</td>\n",
              "      <td>zeroneuronas</td>\n",
              "      <td>antonio.j.cuevas</td>\n",
              "      <td>zeroneuronas</td>\n",
              "    </tr>\n",
              "    <tr>\n",
              "      <th>322</th>\n",
              "      <td>Ghibril Ariadna</td>\n",
              "      <td>arighibril</td>\n",
              "      <td>ghibril</td>\n",
              "      <td>ghibril</td>\n",
              "    </tr>\n",
              "  </tbody>\n",
              "</table>\n",
              "<p>323 rows × 4 columns</p>\n",
              "</div>"
            ],
            "text/plain": [
              "                   Name        Twitter            Facebook      Instagram\n",
              "0           Alex Sablan  alexsablancom       alexsablancom       a_sablan\n",
              "1           Xavier Gass      xavigasso              xgasso      xavigasso\n",
              "2          Nicole Lapin    nicolelapin         nicolelapin    nicolelapin\n",
              "3        Mattan Griffel  mattangriffel       mattangriffel  mattangriffel\n",
              "4    Shashank Bharadwaj            snk            shashu10       shashu10\n",
              "..                  ...            ...                 ...            ...\n",
              "318         Vasu Chawla     vasuchawla        vasuchawla26     vasuchawla\n",
              "319     Dayn Wilberding           dayn               daynw           dayn\n",
              "320   Guillermo Navarro      bildenlex  drguillermonavarro      bildenlex\n",
              "321   Antonio J. Cuevas   zeroneuronas    antonio.j.cuevas   zeroneuronas\n",
              "322     Ghibril Ariadna     arighibril             ghibril        ghibril\n",
              "\n",
              "[323 rows x 4 columns]"
            ]
          },
          "metadata": {},
          "execution_count": 7
        }
      ]
    },
    {
      "cell_type": "markdown",
      "metadata": {
        "id": "le6DhWYYF6wy"
      },
      "source": [
        "**Now we have the username for futher analysis**"
      ]
    },
    {
      "cell_type": "code",
      "metadata": {
        "id": "WV7ZEelXGTtX"
      },
      "source": [
        ""
      ],
      "execution_count": null,
      "outputs": []
    },
    {
      "cell_type": "markdown",
      "metadata": {
        "id": "oTUDjw7tGAa0"
      },
      "source": [
        "**The Two distance metrics I'll be using are \"HAMMING\" and \"LEVENSHTEIN\"**\n",
        "\n",
        "\n",
        "*   Hamming distance between two strings of equal length is the number of positions at which the corresponding symbols are different. In other words, it measures the minimum number of substitutions required to change one string into the other.\n",
        "*    The Levenshtein distance is a string metric for measuring the difference between two sequences. Informally, the Levenshtein distance between two words is the minimum number of single-character edits (insertions, deletions or substitutions) required to change one word into the other.\n",
        "\n"
      ]
    },
    {
      "cell_type": "code",
      "metadata": {
        "id": "odTSpVCA_CR1"
      },
      "source": [
        "pip install textdistance\n"
      ],
      "execution_count": null,
      "outputs": []
    },
    {
      "cell_type": "code",
      "metadata": {
        "id": "knOuJNA3-14v"
      },
      "source": [
        "import textdistance as td"
      ],
      "execution_count": 10,
      "outputs": []
    },
    {
      "cell_type": "code",
      "metadata": {
        "id": "sWXCusdbB07s"
      },
      "source": [
        "tf = df.iloc[:,[1,2]]  ## Twitter-Facbook linkage\n",
        "ti = df.iloc[:,[1,3]]  ## Twitter-Instagram linkage\n",
        "fi = df.iloc[:,[2,3]]  ## Facebook-Instagram linkage"
      ],
      "execution_count": 12,
      "outputs": []
    },
    {
      "cell_type": "code",
      "metadata": {
        "id": "QlEa_DT3xPRl"
      },
      "source": [
        "def get_score(df1):\n",
        "  df1['Hamming'] = \"\"\n",
        "  df1['Similarity'] = \"\"\n",
        "  df1['levenshtein'] = \"\"\n",
        "  df1['lev_Similar'] = \"\"\n",
        "\n",
        "  for i in range(0,323):\n",
        "    df1.iat[i,2] = td.hamming.distance(df1.iat[i,0],df1.iat[i,1])\n",
        "    df1.iat[i,3] = td.hamming.normalized_similarity(df1.iat[i,0],df1.iat[i,1])\n",
        "    \n",
        "    df1.iat[i,4] = td.levenshtein.distance(df1.iat[i,0],df1.iat[i,1])\n",
        "    df1.iat[i,5] = td.levenshtein.normalized_similarity(df1.iat[i,0],df1.iat[i,1])\n",
        "  return df1"
      ],
      "execution_count": null,
      "outputs": []
    },
    {
      "cell_type": "code",
      "metadata": {
        "id": "1VWYe_QOxQu1"
      },
      "source": [
        "def count_plot(data):\n",
        "  plt.figure(figsize = (16, 6))\n",
        "  plt.subplot(1, 2, 1)\n",
        "  ax = sns.countplot(x='Hamming',data=data, palette = 'dark')\n",
        "  ax.set_title(label = 'Count of Hamming Distance', fontsize = 20)\n",
        "  ax.set_xlabel(xlabel = 'Hamming Distance', fontsize = 16)\n",
        "  ax.set_ylabel(ylabel = 'Count', fontsize = 16)\n",
        "  # plt.show()\n",
        "\n",
        "  # plt.figure(figsize = (13, 8))\n",
        "  plt.subplot(1, 2, 2)\n",
        "  ax = sns.countplot(x='levenshtein',data=tf, palette = 'dark')\n",
        "  ax.set_title(label = 'Count of levenshtein Distance', fontsize = 20)\n",
        "  ax.set_xlabel(xlabel = 'levenshtein Distance', fontsize = 16)\n",
        "  ax.set_ylabel(ylabel = 'Count', fontsize = 16)\n",
        "  plt.show()\n",
        "\n",
        "def line_plot(data):\n",
        "  plt.subplots(figsize=(16,6))\n",
        "  plt.subplot(1, 2, 1)\n",
        "  plt.title('Hamming vs Similarity', fontsize = 20, fontweight = 15)\n",
        "  sns.lineplot(x=\"Hamming\",y = 'Similarity',data=tf)\n",
        "\n",
        "  plt.subplot(1, 2, 2)\n",
        "  plt.title('Levenshtein vs Similarity', fontsize = 20, fontweight = 15)\n",
        "  sns.lineplot(x= 'levenshtein',y='lev_Similar',data = tf)\n",
        "  plt.show()"
      ],
      "execution_count": 36,
      "outputs": []
    },
    {
      "cell_type": "markdown",
      "metadata": {
        "id": "iLOlNRbweaTb"
      },
      "source": [
        "**Twitter-Facebook**\n",
        "\n",
        "\n",
        "\n"
      ]
    },
    {
      "cell_type": "code",
      "metadata": {
        "colab": {
          "base_uri": "https://localhost:8080/",
          "height": 419
        },
        "id": "H6iaklHxehab",
        "outputId": "40cbb6dd-fa30-4aa7-f1e0-732b76dca8e2"
      },
      "source": [
        "tf"
      ],
      "execution_count": 13,
      "outputs": [
        {
          "output_type": "execute_result",
          "data": {
            "text/html": [
              "<div>\n",
              "<style scoped>\n",
              "    .dataframe tbody tr th:only-of-type {\n",
              "        vertical-align: middle;\n",
              "    }\n",
              "\n",
              "    .dataframe tbody tr th {\n",
              "        vertical-align: top;\n",
              "    }\n",
              "\n",
              "    .dataframe thead th {\n",
              "        text-align: right;\n",
              "    }\n",
              "</style>\n",
              "<table border=\"1\" class=\"dataframe\">\n",
              "  <thead>\n",
              "    <tr style=\"text-align: right;\">\n",
              "      <th></th>\n",
              "      <th>Twitter</th>\n",
              "      <th>Facebook</th>\n",
              "    </tr>\n",
              "  </thead>\n",
              "  <tbody>\n",
              "    <tr>\n",
              "      <th>0</th>\n",
              "      <td>alexsablancom</td>\n",
              "      <td>alexsablancom</td>\n",
              "    </tr>\n",
              "    <tr>\n",
              "      <th>1</th>\n",
              "      <td>xavigasso</td>\n",
              "      <td>xgasso</td>\n",
              "    </tr>\n",
              "    <tr>\n",
              "      <th>2</th>\n",
              "      <td>nicolelapin</td>\n",
              "      <td>nicolelapin</td>\n",
              "    </tr>\n",
              "    <tr>\n",
              "      <th>3</th>\n",
              "      <td>mattangriffel</td>\n",
              "      <td>mattangriffel</td>\n",
              "    </tr>\n",
              "    <tr>\n",
              "      <th>4</th>\n",
              "      <td>snk</td>\n",
              "      <td>shashu10</td>\n",
              "    </tr>\n",
              "    <tr>\n",
              "      <th>...</th>\n",
              "      <td>...</td>\n",
              "      <td>...</td>\n",
              "    </tr>\n",
              "    <tr>\n",
              "      <th>318</th>\n",
              "      <td>vasuchawla</td>\n",
              "      <td>vasuchawla26</td>\n",
              "    </tr>\n",
              "    <tr>\n",
              "      <th>319</th>\n",
              "      <td>dayn</td>\n",
              "      <td>daynw</td>\n",
              "    </tr>\n",
              "    <tr>\n",
              "      <th>320</th>\n",
              "      <td>bildenlex</td>\n",
              "      <td>drguillermonavarro</td>\n",
              "    </tr>\n",
              "    <tr>\n",
              "      <th>321</th>\n",
              "      <td>zeroneuronas</td>\n",
              "      <td>antonio.j.cuevas</td>\n",
              "    </tr>\n",
              "    <tr>\n",
              "      <th>322</th>\n",
              "      <td>arighibril</td>\n",
              "      <td>ghibril</td>\n",
              "    </tr>\n",
              "  </tbody>\n",
              "</table>\n",
              "<p>323 rows × 2 columns</p>\n",
              "</div>"
            ],
            "text/plain": [
              "           Twitter            Facebook\n",
              "0    alexsablancom       alexsablancom\n",
              "1        xavigasso              xgasso\n",
              "2      nicolelapin         nicolelapin\n",
              "3    mattangriffel       mattangriffel\n",
              "4              snk            shashu10\n",
              "..             ...                 ...\n",
              "318     vasuchawla        vasuchawla26\n",
              "319           dayn               daynw\n",
              "320      bildenlex  drguillermonavarro\n",
              "321   zeroneuronas    antonio.j.cuevas\n",
              "322     arighibril             ghibril\n",
              "\n",
              "[323 rows x 2 columns]"
            ]
          },
          "metadata": {},
          "execution_count": 13
        }
      ]
    },
    {
      "cell_type": "code",
      "metadata": {
        "id": "oZrAhmKJai3H"
      },
      "source": [
        "df1 = tf\n",
        "tf = get_score(df1)"
      ],
      "execution_count": null,
      "outputs": []
    },
    {
      "cell_type": "code",
      "metadata": {
        "colab": {
          "base_uri": "https://localhost:8080/",
          "height": 419
        },
        "id": "YmPUhoVPf1TH",
        "outputId": "e0c10831-c18e-4a63-e440-20d09bf13bf0"
      },
      "source": [
        "tf"
      ],
      "execution_count": 16,
      "outputs": [
        {
          "output_type": "execute_result",
          "data": {
            "text/html": [
              "<div>\n",
              "<style scoped>\n",
              "    .dataframe tbody tr th:only-of-type {\n",
              "        vertical-align: middle;\n",
              "    }\n",
              "\n",
              "    .dataframe tbody tr th {\n",
              "        vertical-align: top;\n",
              "    }\n",
              "\n",
              "    .dataframe thead th {\n",
              "        text-align: right;\n",
              "    }\n",
              "</style>\n",
              "<table border=\"1\" class=\"dataframe\">\n",
              "  <thead>\n",
              "    <tr style=\"text-align: right;\">\n",
              "      <th></th>\n",
              "      <th>Twitter</th>\n",
              "      <th>Facebook</th>\n",
              "      <th>Hamming</th>\n",
              "      <th>Similarity</th>\n",
              "      <th>levenshtein</th>\n",
              "      <th>lev_Similar</th>\n",
              "    </tr>\n",
              "  </thead>\n",
              "  <tbody>\n",
              "    <tr>\n",
              "      <th>0</th>\n",
              "      <td>alexsablancom</td>\n",
              "      <td>alexsablancom</td>\n",
              "      <td>0</td>\n",
              "      <td>1</td>\n",
              "      <td>0</td>\n",
              "      <td>1</td>\n",
              "    </tr>\n",
              "    <tr>\n",
              "      <th>1</th>\n",
              "      <td>xavigasso</td>\n",
              "      <td>xgasso</td>\n",
              "      <td>8</td>\n",
              "      <td>0.111111</td>\n",
              "      <td>3</td>\n",
              "      <td>0.666667</td>\n",
              "    </tr>\n",
              "    <tr>\n",
              "      <th>2</th>\n",
              "      <td>nicolelapin</td>\n",
              "      <td>nicolelapin</td>\n",
              "      <td>0</td>\n",
              "      <td>1</td>\n",
              "      <td>0</td>\n",
              "      <td>1</td>\n",
              "    </tr>\n",
              "    <tr>\n",
              "      <th>3</th>\n",
              "      <td>mattangriffel</td>\n",
              "      <td>mattangriffel</td>\n",
              "      <td>0</td>\n",
              "      <td>1</td>\n",
              "      <td>0</td>\n",
              "      <td>1</td>\n",
              "    </tr>\n",
              "    <tr>\n",
              "      <th>4</th>\n",
              "      <td>snk</td>\n",
              "      <td>shashu10</td>\n",
              "      <td>7</td>\n",
              "      <td>0.125</td>\n",
              "      <td>7</td>\n",
              "      <td>0.125</td>\n",
              "    </tr>\n",
              "    <tr>\n",
              "      <th>...</th>\n",
              "      <td>...</td>\n",
              "      <td>...</td>\n",
              "      <td>...</td>\n",
              "      <td>...</td>\n",
              "      <td>...</td>\n",
              "      <td>...</td>\n",
              "    </tr>\n",
              "    <tr>\n",
              "      <th>318</th>\n",
              "      <td>vasuchawla</td>\n",
              "      <td>vasuchawla26</td>\n",
              "      <td>2</td>\n",
              "      <td>0.833333</td>\n",
              "      <td>2</td>\n",
              "      <td>0.833333</td>\n",
              "    </tr>\n",
              "    <tr>\n",
              "      <th>319</th>\n",
              "      <td>dayn</td>\n",
              "      <td>daynw</td>\n",
              "      <td>1</td>\n",
              "      <td>0.8</td>\n",
              "      <td>1</td>\n",
              "      <td>0.8</td>\n",
              "    </tr>\n",
              "    <tr>\n",
              "      <th>320</th>\n",
              "      <td>bildenlex</td>\n",
              "      <td>drguillermonavarro</td>\n",
              "      <td>16</td>\n",
              "      <td>0.111111</td>\n",
              "      <td>14</td>\n",
              "      <td>0.222222</td>\n",
              "    </tr>\n",
              "    <tr>\n",
              "      <th>321</th>\n",
              "      <td>zeroneuronas</td>\n",
              "      <td>antonio.j.cuevas</td>\n",
              "      <td>14</td>\n",
              "      <td>0.125</td>\n",
              "      <td>12</td>\n",
              "      <td>0.25</td>\n",
              "    </tr>\n",
              "    <tr>\n",
              "      <th>322</th>\n",
              "      <td>arighibril</td>\n",
              "      <td>ghibril</td>\n",
              "      <td>8</td>\n",
              "      <td>0.2</td>\n",
              "      <td>3</td>\n",
              "      <td>0.7</td>\n",
              "    </tr>\n",
              "  </tbody>\n",
              "</table>\n",
              "<p>323 rows × 6 columns</p>\n",
              "</div>"
            ],
            "text/plain": [
              "           Twitter            Facebook  ... levenshtein lev_Similar\n",
              "0    alexsablancom       alexsablancom  ...           0           1\n",
              "1        xavigasso              xgasso  ...           3    0.666667\n",
              "2      nicolelapin         nicolelapin  ...           0           1\n",
              "3    mattangriffel       mattangriffel  ...           0           1\n",
              "4              snk            shashu10  ...           7       0.125\n",
              "..             ...                 ...  ...         ...         ...\n",
              "318     vasuchawla        vasuchawla26  ...           2    0.833333\n",
              "319           dayn               daynw  ...           1         0.8\n",
              "320      bildenlex  drguillermonavarro  ...          14    0.222222\n",
              "321   zeroneuronas    antonio.j.cuevas  ...          12        0.25\n",
              "322     arighibril             ghibril  ...           3         0.7\n",
              "\n",
              "[323 rows x 6 columns]"
            ]
          },
          "metadata": {},
          "execution_count": 16
        }
      ]
    },
    {
      "cell_type": "code",
      "metadata": {
        "colab": {
          "base_uri": "https://localhost:8080/",
          "height": 414
        },
        "id": "qNrf_vfzt2q6",
        "outputId": "6f118402-1b22-4cfa-f05b-2281c0c33324"
      },
      "source": [
        "count_plot(tf)"
      ],
      "execution_count": 41,
      "outputs": [
        {
          "output_type": "display_data",
          "data": {
            "image/png": "[encoded data removed]",
            "text/plain": [
              "<Figure size 1152x432 with 2 Axes>"
            ]
          },
          "metadata": {
            "needs_background": "light"
          }
        }
      ]
    },
    {
      "cell_type": "code",
      "metadata": {
        "colab": {
          "base_uri": "https://localhost:8080/",
          "height": 409
        },
        "id": "zWRsoVj9unoJ",
        "outputId": "79536478-acdb-42ed-b97c-c04c9f6e7850"
      },
      "source": [
        "\n",
        "line_plot(tf)"
      ],
      "execution_count": 42,
      "outputs": [
        {
          "output_type": "display_data",
          "data": {
            "image/png": "[encoded data removed]",
            "text/plain": [
              "<Figure size 1152x432 with 2 Axes>"
            ]
          },
          "metadata": {
            "needs_background": "light"
          }
        }
      ]
    },
    {
      "cell_type": "code",
      "metadata": {
        "id": "zWyDyZ8YzREx"
      },
      "source": [
        "tt = []\n",
        "\n",
        "\n",
        "for i in range(0,323):\n",
        "  tt.append(td.lcsstr.distance(tf.iat[i,0],tf.iat[i,1]))"
      ],
      "execution_count": 45,
      "outputs": []
    },
    {
      "cell_type": "code",
      "metadata": {
        "id": "-vQPl0JszusQ"
      },
      "source": [
        "tt"
      ],
      "execution_count": null,
      "outputs": []
    },
    {
      "cell_type": "markdown",
      "metadata": {
        "id": "kMGWnpzYerXB"
      },
      "source": [
        "**Twitter-Instagram**"
      ]
    },
    {
      "cell_type": "code",
      "metadata": {
        "colab": {
          "base_uri": "https://localhost:8080/",
          "height": 419
        },
        "id": "DCOcl7gzeu6w",
        "outputId": "4700326e-5d9c-43b9-c648-a74ba36fec25"
      },
      "source": [
        "ti"
      ],
      "execution_count": 17,
      "outputs": [
        {
          "output_type": "execute_result",
          "data": {
            "text/html": [
              "<div>\n",
              "<style scoped>\n",
              "    .dataframe tbody tr th:only-of-type {\n",
              "        vertical-align: middle;\n",
              "    }\n",
              "\n",
              "    .dataframe tbody tr th {\n",
              "        vertical-align: top;\n",
              "    }\n",
              "\n",
              "    .dataframe thead th {\n",
              "        text-align: right;\n",
              "    }\n",
              "</style>\n",
              "<table border=\"1\" class=\"dataframe\">\n",
              "  <thead>\n",
              "    <tr style=\"text-align: right;\">\n",
              "      <th></th>\n",
              "      <th>Twitter</th>\n",
              "      <th>Instagram</th>\n",
              "    </tr>\n",
              "  </thead>\n",
              "  <tbody>\n",
              "    <tr>\n",
              "      <th>0</th>\n",
              "      <td>alexsablancom</td>\n",
              "      <td>a_sablan</td>\n",
              "    </tr>\n",
              "    <tr>\n",
              "      <th>1</th>\n",
              "      <td>xavigasso</td>\n",
              "      <td>xavigasso</td>\n",
              "    </tr>\n",
              "    <tr>\n",
              "      <th>2</th>\n",
              "      <td>nicolelapin</td>\n",
              "      <td>nicolelapin</td>\n",
              "    </tr>\n",
              "    <tr>\n",
              "      <th>3</th>\n",
              "      <td>mattangriffel</td>\n",
              "      <td>mattangriffel</td>\n",
              "    </tr>\n",
              "    <tr>\n",
              "      <th>4</th>\n",
              "      <td>snk</td>\n",
              "      <td>shashu10</td>\n",
              "    </tr>\n",
              "    <tr>\n",
              "      <th>...</th>\n",
              "      <td>...</td>\n",
              "      <td>...</td>\n",
              "    </tr>\n",
              "    <tr>\n",
              "      <th>318</th>\n",
              "      <td>vasuchawla</td>\n",
              "      <td>vasuchawla</td>\n",
              "    </tr>\n",
              "    <tr>\n",
              "      <th>319</th>\n",
              "      <td>dayn</td>\n",
              "      <td>dayn</td>\n",
              "    </tr>\n",
              "    <tr>\n",
              "      <th>320</th>\n",
              "      <td>bildenlex</td>\n",
              "      <td>bildenlex</td>\n",
              "    </tr>\n",
              "    <tr>\n",
              "      <th>321</th>\n",
              "      <td>zeroneuronas</td>\n",
              "      <td>zeroneuronas</td>\n",
              "    </tr>\n",
              "    <tr>\n",
              "      <th>322</th>\n",
              "      <td>arighibril</td>\n",
              "      <td>ghibril</td>\n",
              "    </tr>\n",
              "  </tbody>\n",
              "</table>\n",
              "<p>323 rows × 2 columns</p>\n",
              "</div>"
            ],
            "text/plain": [
              "           Twitter      Instagram\n",
              "0    alexsablancom       a_sablan\n",
              "1        xavigasso      xavigasso\n",
              "2      nicolelapin    nicolelapin\n",
              "3    mattangriffel  mattangriffel\n",
              "4              snk       shashu10\n",
              "..             ...            ...\n",
              "318     vasuchawla     vasuchawla\n",
              "319           dayn           dayn\n",
              "320      bildenlex      bildenlex\n",
              "321   zeroneuronas   zeroneuronas\n",
              "322     arighibril        ghibril\n",
              "\n",
              "[323 rows x 2 columns]"
            ]
          },
          "metadata": {},
          "execution_count": 17
        }
      ]
    },
    {
      "cell_type": "code",
      "metadata": {
        "colab": {
          "base_uri": "https://localhost:8080/",
          "height": 419
        },
        "id": "-BML8BGugBvA",
        "outputId": "9f21a0e4-afa5-439a-b03e-b585c17a8e86"
      },
      "source": [
        "df1 = ti\n",
        "ti = get_score(df1)\n",
        "ti"
      ],
      "execution_count": 19,
      "outputs": [
        {
          "output_type": "execute_result",
          "data": {
            "text/html": [
              "<div>\n",
              "<style scoped>\n",
              "    .dataframe tbody tr th:only-of-type {\n",
              "        vertical-align: middle;\n",
              "    }\n",
              "\n",
              "    .dataframe tbody tr th {\n",
              "        vertical-align: top;\n",
              "    }\n",
              "\n",
              "    .dataframe thead th {\n",
              "        text-align: right;\n",
              "    }\n",
              "</style>\n",
              "<table border=\"1\" class=\"dataframe\">\n",
              "  <thead>\n",
              "    <tr style=\"text-align: right;\">\n",
              "      <th></th>\n",
              "      <th>Twitter</th>\n",
              "      <th>Instagram</th>\n",
              "      <th>Hamming</th>\n",
              "      <th>Similarity</th>\n",
              "      <th>levenshtein</th>\n",
              "      <th>lev_Similar</th>\n",
              "    </tr>\n",
              "  </thead>\n",
              "  <tbody>\n",
              "    <tr>\n",
              "      <th>0</th>\n",
              "      <td>alexsablancom</td>\n",
              "      <td>a_sablan</td>\n",
              "      <td>12</td>\n",
              "      <td>0.0769231</td>\n",
              "      <td>6</td>\n",
              "      <td>0.538462</td>\n",
              "    </tr>\n",
              "    <tr>\n",
              "      <th>1</th>\n",
              "      <td>xavigasso</td>\n",
              "      <td>xavigasso</td>\n",
              "      <td>0</td>\n",
              "      <td>1</td>\n",
              "      <td>0</td>\n",
              "      <td>1</td>\n",
              "    </tr>\n",
              "    <tr>\n",
              "      <th>2</th>\n",
              "      <td>nicolelapin</td>\n",
              "      <td>nicolelapin</td>\n",
              "      <td>0</td>\n",
              "      <td>1</td>\n",
              "      <td>0</td>\n",
              "      <td>1</td>\n",
              "    </tr>\n",
              "    <tr>\n",
              "      <th>3</th>\n",
              "      <td>mattangriffel</td>\n",
              "      <td>mattangriffel</td>\n",
              "      <td>0</td>\n",
              "      <td>1</td>\n",
              "      <td>0</td>\n",
              "      <td>1</td>\n",
              "    </tr>\n",
              "    <tr>\n",
              "      <th>4</th>\n",
              "      <td>snk</td>\n",
              "      <td>shashu10</td>\n",
              "      <td>7</td>\n",
              "      <td>0.125</td>\n",
              "      <td>7</td>\n",
              "      <td>0.125</td>\n",
              "    </tr>\n",
              "    <tr>\n",
              "      <th>...</th>\n",
              "      <td>...</td>\n",
              "      <td>...</td>\n",
              "      <td>...</td>\n",
              "      <td>...</td>\n",
              "      <td>...</td>\n",
              "      <td>...</td>\n",
              "    </tr>\n",
              "    <tr>\n",
              "      <th>318</th>\n",
              "      <td>vasuchawla</td>\n",
              "      <td>vasuchawla</td>\n",
              "      <td>0</td>\n",
              "      <td>1</td>\n",
              "      <td>0</td>\n",
              "      <td>1</td>\n",
              "    </tr>\n",
              "    <tr>\n",
              "      <th>319</th>\n",
              "      <td>dayn</td>\n",
              "      <td>dayn</td>\n",
              "      <td>0</td>\n",
              "      <td>1</td>\n",
              "      <td>0</td>\n",
              "      <td>1</td>\n",
              "    </tr>\n",
              "    <tr>\n",
              "      <th>320</th>\n",
              "      <td>bildenlex</td>\n",
              "      <td>bildenlex</td>\n",
              "      <td>0</td>\n",
              "      <td>1</td>\n",
              "      <td>0</td>\n",
              "      <td>1</td>\n",
              "    </tr>\n",
              "    <tr>\n",
              "      <th>321</th>\n",
              "      <td>zeroneuronas</td>\n",
              "      <td>zeroneuronas</td>\n",
              "      <td>0</td>\n",
              "      <td>1</td>\n",
              "      <td>0</td>\n",
              "      <td>1</td>\n",
              "    </tr>\n",
              "    <tr>\n",
              "      <th>322</th>\n",
              "      <td>arighibril</td>\n",
              "      <td>ghibril</td>\n",
              "      <td>8</td>\n",
              "      <td>0.2</td>\n",
              "      <td>3</td>\n",
              "      <td>0.7</td>\n",
              "    </tr>\n",
              "  </tbody>\n",
              "</table>\n",
              "<p>323 rows × 6 columns</p>\n",
              "</div>"
            ],
            "text/plain": [
              "           Twitter      Instagram Hamming Similarity levenshtein lev_Similar\n",
              "0    alexsablancom       a_sablan      12  0.0769231           6    0.538462\n",
              "1        xavigasso      xavigasso       0          1           0           1\n",
              "2      nicolelapin    nicolelapin       0          1           0           1\n",
              "3    mattangriffel  mattangriffel       0          1           0           1\n",
              "4              snk       shashu10       7      0.125           7       0.125\n",
              "..             ...            ...     ...        ...         ...         ...\n",
              "318     vasuchawla     vasuchawla       0          1           0           1\n",
              "319           dayn           dayn       0          1           0           1\n",
              "320      bildenlex      bildenlex       0          1           0           1\n",
              "321   zeroneuronas   zeroneuronas       0          1           0           1\n",
              "322     arighibril        ghibril       8        0.2           3         0.7\n",
              "\n",
              "[323 rows x 6 columns]"
            ]
          },
          "metadata": {},
          "execution_count": 19
        }
      ]
    },
    {
      "cell_type": "code",
      "metadata": {
        "colab": {
          "base_uri": "https://localhost:8080/",
          "height": 414
        },
        "id": "BaDn47UcxEpc",
        "outputId": "74def5ee-9849-456a-cf3f-37e37d2278e2"
      },
      "source": [
        "count_plot(ti)"
      ],
      "execution_count": 37,
      "outputs": [
        {
          "output_type": "display_data",
          "data": {
            "image/png": "[encoded data removed]",
            "text/plain": [
              "<Figure size 1152x432 with 2 Axes>"
            ]
          },
          "metadata": {
            "needs_background": "light"
          }
        }
      ]
    },
    {
      "cell_type": "code",
      "metadata": {
        "colab": {
          "base_uri": "https://localhost:8080/",
          "height": 409
        },
        "id": "HfrUmn1NyNZV",
        "outputId": "561a1238-ace8-4ee9-9683-9e131c96dc7d"
      },
      "source": [
        "line_plot(ti)"
      ],
      "execution_count": 38,
      "outputs": [
        {
          "output_type": "display_data",
          "data": {
            "image/png": "[encoded data removed]",
            "text/plain": [
              "<Figure size 1152x432 with 2 Axes>"
            ]
          },
          "metadata": {
            "needs_background": "light"
          }
        }
      ]
    },
    {
      "cell_type": "markdown",
      "metadata": {
        "id": "XTA-kSCSgNFH"
      },
      "source": [
        "**Facebook-Instagram**"
      ]
    },
    {
      "cell_type": "code",
      "metadata": {
        "colab": {
          "base_uri": "https://localhost:8080/",
          "height": 419
        },
        "id": "2pijH8CFgROo",
        "outputId": "3418440a-72bf-474a-be81-42dfb96a9c09"
      },
      "source": [
        "fi"
      ],
      "execution_count": 20,
      "outputs": [
        {
          "output_type": "execute_result",
          "data": {
            "text/html": [
              "<div>\n",
              "<style scoped>\n",
              "    .dataframe tbody tr th:only-of-type {\n",
              "        vertical-align: middle;\n",
              "    }\n",
              "\n",
              "    .dataframe tbody tr th {\n",
              "        vertical-align: top;\n",
              "    }\n",
              "\n",
              "    .dataframe thead th {\n",
              "        text-align: right;\n",
              "    }\n",
              "</style>\n",
              "<table border=\"1\" class=\"dataframe\">\n",
              "  <thead>\n",
              "    <tr style=\"text-align: right;\">\n",
              "      <th></th>\n",
              "      <th>Facebook</th>\n",
              "      <th>Instagram</th>\n",
              "    </tr>\n",
              "  </thead>\n",
              "  <tbody>\n",
              "    <tr>\n",
              "      <th>0</th>\n",
              "      <td>alexsablancom</td>\n",
              "      <td>a_sablan</td>\n",
              "    </tr>\n",
              "    <tr>\n",
              "      <th>1</th>\n",
              "      <td>xgasso</td>\n",
              "      <td>xavigasso</td>\n",
              "    </tr>\n",
              "    <tr>\n",
              "      <th>2</th>\n",
              "      <td>nicolelapin</td>\n",
              "      <td>nicolelapin</td>\n",
              "    </tr>\n",
              "    <tr>\n",
              "      <th>3</th>\n",
              "      <td>mattangriffel</td>\n",
              "      <td>mattangriffel</td>\n",
              "    </tr>\n",
              "    <tr>\n",
              "      <th>4</th>\n",
              "      <td>shashu10</td>\n",
              "      <td>shashu10</td>\n",
              "    </tr>\n",
              "    <tr>\n",
              "      <th>...</th>\n",
              "      <td>...</td>\n",
              "      <td>...</td>\n",
              "    </tr>\n",
              "    <tr>\n",
              "      <th>318</th>\n",
              "      <td>vasuchawla26</td>\n",
              "      <td>vasuchawla</td>\n",
              "    </tr>\n",
              "    <tr>\n",
              "      <th>319</th>\n",
              "      <td>daynw</td>\n",
              "      <td>dayn</td>\n",
              "    </tr>\n",
              "    <tr>\n",
              "      <th>320</th>\n",
              "      <td>drguillermonavarro</td>\n",
              "      <td>bildenlex</td>\n",
              "    </tr>\n",
              "    <tr>\n",
              "      <th>321</th>\n",
              "      <td>antonio.j.cuevas</td>\n",
              "      <td>zeroneuronas</td>\n",
              "    </tr>\n",
              "    <tr>\n",
              "      <th>322</th>\n",
              "      <td>ghibril</td>\n",
              "      <td>ghibril</td>\n",
              "    </tr>\n",
              "  </tbody>\n",
              "</table>\n",
              "<p>323 rows × 2 columns</p>\n",
              "</div>"
            ],
            "text/plain": [
              "               Facebook      Instagram\n",
              "0         alexsablancom       a_sablan\n",
              "1                xgasso      xavigasso\n",
              "2           nicolelapin    nicolelapin\n",
              "3         mattangriffel  mattangriffel\n",
              "4              shashu10       shashu10\n",
              "..                  ...            ...\n",
              "318        vasuchawla26     vasuchawla\n",
              "319               daynw           dayn\n",
              "320  drguillermonavarro      bildenlex\n",
              "321    antonio.j.cuevas   zeroneuronas\n",
              "322             ghibril        ghibril\n",
              "\n",
              "[323 rows x 2 columns]"
            ]
          },
          "metadata": {},
          "execution_count": 20
        }
      ]
    },
    {
      "cell_type": "code",
      "metadata": {
        "colab": {
          "base_uri": "https://localhost:8080/",
          "height": 419
        },
        "id": "MoJB04lvgTCu",
        "outputId": "19c24182-2c25-4328-ea24-c4bc76f977cb"
      },
      "source": [
        "df1 = fi\n",
        "fi = get_score(df1)\n",
        "fi"
      ],
      "execution_count": 22,
      "outputs": [
        {
          "output_type": "execute_result",
          "data": {
            "text/html": [
              "<div>\n",
              "<style scoped>\n",
              "    .dataframe tbody tr th:only-of-type {\n",
              "        vertical-align: middle;\n",
              "    }\n",
              "\n",
              "    .dataframe tbody tr th {\n",
              "        vertical-align: top;\n",
              "    }\n",
              "\n",
              "    .dataframe thead th {\n",
              "        text-align: right;\n",
              "    }\n",
              "</style>\n",
              "<table border=\"1\" class=\"dataframe\">\n",
              "  <thead>\n",
              "    <tr style=\"text-align: right;\">\n",
              "      <th></th>\n",
              "      <th>Facebook</th>\n",
              "      <th>Instagram</th>\n",
              "      <th>Hamming</th>\n",
              "      <th>Similarity</th>\n",
              "      <th>levenshtein</th>\n",
              "      <th>lev_Similar</th>\n",
              "    </tr>\n",
              "  </thead>\n",
              "  <tbody>\n",
              "    <tr>\n",
              "      <th>0</th>\n",
              "      <td>alexsablancom</td>\n",
              "      <td>a_sablan</td>\n",
              "      <td>12</td>\n",
              "      <td>0.0769231</td>\n",
              "      <td>6</td>\n",
              "      <td>0.538462</td>\n",
              "    </tr>\n",
              "    <tr>\n",
              "      <th>1</th>\n",
              "      <td>xgasso</td>\n",
              "      <td>xavigasso</td>\n",
              "      <td>8</td>\n",
              "      <td>0.111111</td>\n",
              "      <td>3</td>\n",
              "      <td>0.666667</td>\n",
              "    </tr>\n",
              "    <tr>\n",
              "      <th>2</th>\n",
              "      <td>nicolelapin</td>\n",
              "      <td>nicolelapin</td>\n",
              "      <td>0</td>\n",
              "      <td>1</td>\n",
              "      <td>0</td>\n",
              "      <td>1</td>\n",
              "    </tr>\n",
              "    <tr>\n",
              "      <th>3</th>\n",
              "      <td>mattangriffel</td>\n",
              "      <td>mattangriffel</td>\n",
              "      <td>0</td>\n",
              "      <td>1</td>\n",
              "      <td>0</td>\n",
              "      <td>1</td>\n",
              "    </tr>\n",
              "    <tr>\n",
              "      <th>4</th>\n",
              "      <td>shashu10</td>\n",
              "      <td>shashu10</td>\n",
              "      <td>0</td>\n",
              "      <td>1</td>\n",
              "      <td>0</td>\n",
              "      <td>1</td>\n",
              "    </tr>\n",
              "    <tr>\n",
              "      <th>...</th>\n",
              "      <td>...</td>\n",
              "      <td>...</td>\n",
              "      <td>...</td>\n",
              "      <td>...</td>\n",
              "      <td>...</td>\n",
              "      <td>...</td>\n",
              "    </tr>\n",
              "    <tr>\n",
              "      <th>318</th>\n",
              "      <td>vasuchawla26</td>\n",
              "      <td>vasuchawla</td>\n",
              "      <td>2</td>\n",
              "      <td>0.833333</td>\n",
              "      <td>2</td>\n",
              "      <td>0.833333</td>\n",
              "    </tr>\n",
              "    <tr>\n",
              "      <th>319</th>\n",
              "      <td>daynw</td>\n",
              "      <td>dayn</td>\n",
              "      <td>1</td>\n",
              "      <td>0.8</td>\n",
              "      <td>1</td>\n",
              "      <td>0.8</td>\n",
              "    </tr>\n",
              "    <tr>\n",
              "      <th>320</th>\n",
              "      <td>drguillermonavarro</td>\n",
              "      <td>bildenlex</td>\n",
              "      <td>16</td>\n",
              "      <td>0.111111</td>\n",
              "      <td>14</td>\n",
              "      <td>0.222222</td>\n",
              "    </tr>\n",
              "    <tr>\n",
              "      <th>321</th>\n",
              "      <td>antonio.j.cuevas</td>\n",
              "      <td>zeroneuronas</td>\n",
              "      <td>14</td>\n",
              "      <td>0.125</td>\n",
              "      <td>12</td>\n",
              "      <td>0.25</td>\n",
              "    </tr>\n",
              "    <tr>\n",
              "      <th>322</th>\n",
              "      <td>ghibril</td>\n",
              "      <td>ghibril</td>\n",
              "      <td>0</td>\n",
              "      <td>1</td>\n",
              "      <td>0</td>\n",
              "      <td>1</td>\n",
              "    </tr>\n",
              "  </tbody>\n",
              "</table>\n",
              "<p>323 rows × 6 columns</p>\n",
              "</div>"
            ],
            "text/plain": [
              "               Facebook      Instagram  ... levenshtein lev_Similar\n",
              "0         alexsablancom       a_sablan  ...           6    0.538462\n",
              "1                xgasso      xavigasso  ...           3    0.666667\n",
              "2           nicolelapin    nicolelapin  ...           0           1\n",
              "3         mattangriffel  mattangriffel  ...           0           1\n",
              "4              shashu10       shashu10  ...           0           1\n",
              "..                  ...            ...  ...         ...         ...\n",
              "318        vasuchawla26     vasuchawla  ...           2    0.833333\n",
              "319               daynw           dayn  ...           1         0.8\n",
              "320  drguillermonavarro      bildenlex  ...          14    0.222222\n",
              "321    antonio.j.cuevas   zeroneuronas  ...          12        0.25\n",
              "322             ghibril        ghibril  ...           0           1\n",
              "\n",
              "[323 rows x 6 columns]"
            ]
          },
          "metadata": {},
          "execution_count": 22
        }
      ]
    },
    {
      "cell_type": "code",
      "metadata": {
        "colab": {
          "base_uri": "https://localhost:8080/",
          "height": 414
        },
        "id": "KlXJkLFzyQ70",
        "outputId": "703dd867-1a9a-41e4-89d1-019b3c9e3be8"
      },
      "source": [
        "count_plot(fi)"
      ],
      "execution_count": 39,
      "outputs": [
        {
          "output_type": "display_data",
          "data": {
            "image/png": "[encoded data removed]",
            "text/plain": [
              "<Figure size 1152x432 with 2 Axes>"
            ]
          },
          "metadata": {
            "needs_background": "light"
          }
        }
      ]
    },
    {
      "cell_type": "code",
      "metadata": {
        "colab": {
          "base_uri": "https://localhost:8080/",
          "height": 409
        },
        "id": "Qlm9i1d7yUd6",
        "outputId": "5d37de59-7174-429a-a81d-0505936889df"
      },
      "source": [
        "line_plot(fi)"
      ],
      "execution_count": 40,
      "outputs": [
        {
          "output_type": "display_data",
          "data": {
            "image/png": "[encoded data removed]",
            "text/plain": [
              "<Figure size 1152x432 with 2 Axes>"
            ]
          },
          "metadata": {
            "needs_background": "light"
          }
        }
      ]
    },
    {
      "cell_type": "code",
      "metadata": {
        "colab": {
          "base_uri": "https://localhost:8080/"
        },
        "id": "Lx2sQ6JP4MvT",
        "outputId": "aacb3038-76ea-4085-fbd9-c5f7eceda99a"
      },
      "source": [
        "tf['lev_Similar'].value_counts()"
      ],
      "execution_count": 48,
      "outputs": [
        {
          "output_type": "execute_result",
          "data": {
            "text/plain": [
              "1.000000    113\n",
              "0.000000     18\n",
              "0.153846      6\n",
              "0.909091      6\n",
              "0.666667      6\n",
              "           ... \n",
              "0.071429      1\n",
              "0.454545      1\n",
              "0.533333      1\n",
              "0.857143      1\n",
              "0.136364      1\n",
              "Name: lev_Similar, Length: 87, dtype: int64"
            ]
          },
          "metadata": {},
          "execution_count": 48
        }
      ]
    },
    {
      "cell_type": "code",
      "metadata": {
        "colab": {
          "base_uri": "https://localhost:8080/"
        },
        "id": "PljK776z4Xki",
        "outputId": "e1235e1d-8be4-4869-d0e8-41081c59b611"
      },
      "source": [
        "ti['lev_Similar'].value_counts()"
      ],
      "execution_count": 49,
      "outputs": [
        {
          "output_type": "execute_result",
          "data": {
            "text/plain": [
              "1.000000    211\n",
              "0.000000     12\n",
              "0.333333      5\n",
              "0.111111      4\n",
              "0.583333      4\n",
              "0.928571      4\n",
              "0.222222      4\n",
              "0.875000      4\n",
              "0.857143      4\n",
              "0.200000      3\n",
              "0.888889      3\n",
              "0.571429      3\n",
              "0.166667      3\n",
              "0.153846      3\n",
              "0.777778      3\n",
              "0.230769      3\n",
              "0.428571      2\n",
              "0.666667      2\n",
              "0.714286      2\n",
              "0.833333      2\n",
              "0.800000      2\n",
              "0.133333      2\n",
              "0.066667      2\n",
              "0.444444      2\n",
              "0.272727      2\n",
              "0.250000      2\n",
              "0.454545      2\n",
              "0.125000      2\n",
              "0.100000      2\n",
              "0.909091      2\n",
              "0.625000      1\n",
              "0.500000      1\n",
              "0.384615      1\n",
              "0.529412      1\n",
              "0.545455      1\n",
              "0.923077      1\n",
              "0.142857      1\n",
              "0.266667      1\n",
              "0.700000      1\n",
              "0.818182      1\n",
              "0.933333      1\n",
              "0.076923      1\n",
              "0.900000      1\n",
              "0.260870      1\n",
              "0.466667      1\n",
              "0.307692      1\n",
              "0.285714      1\n",
              "0.214286      1\n",
              "0.416667      1\n",
              "0.357143      1\n",
              "0.400000      1\n",
              "0.538462      1\n",
              "Name: lev_Similar, dtype: int64"
            ]
          },
          "metadata": {},
          "execution_count": 49
        }
      ]
    },
    {
      "cell_type": "code",
      "metadata": {
        "colab": {
          "base_uri": "https://localhost:8080/"
        },
        "id": "ElssGHCT4fVD",
        "outputId": "d6b17b34-9d5c-4929-c0d9-c6fe72ce3320"
      },
      "source": [
        "fi['lev_Similar'].value_counts()"
      ],
      "execution_count": 50,
      "outputs": [
        {
          "output_type": "execute_result",
          "data": {
            "text/plain": [
              "1.000000    114\n",
              "0.000000     18\n",
              "0.666667      6\n",
              "0.916667      6\n",
              "0.153846      6\n",
              "           ... \n",
              "0.437500      1\n",
              "0.652174      1\n",
              "0.615385      1\n",
              "0.692308      1\n",
              "0.642857      1\n",
              "Name: lev_Similar, Length: 86, dtype: int64"
            ]
          },
          "metadata": {},
          "execution_count": 50
        }
      ]
    },
    {
      "cell_type": "markdown",
      "metadata": {
        "id": "eQGT-AsR46hi"
      },
      "source": [
        "From above analysis we can conclude that the pair Twitter-Instagram has the max comman name username, followed by Facebook-Instagram and then Twitter-Facebook"
      ]
    },
    {
      "cell_type": "code",
      "metadata": {
        "id": "8ibKvA9L46H0"
      },
      "source": [
        ""
      ],
      "execution_count": null,
      "outputs": []
    }
  ]
}